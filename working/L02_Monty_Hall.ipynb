{
 "cells": [
  {
   "cell_type": "markdown",
   "id": "c53c89a8",
   "metadata": {},
   "source": [
    "## Monty Hall Problem"
   ]
  },
  {
   "cell_type": "code",
   "execution_count": 1,
   "id": "87239611",
   "metadata": {},
   "outputs": [],
   "source": [
    "import numpy as np\n",
    "import random\n",
    "random.seed(123)"
   ]
  },
  {
   "cell_type": "markdown",
   "id": "cc2717a0",
   "metadata": {},
   "source": [
    "Three doors, one car, two goats"
   ]
  },
  {
   "cell_type": "code",
   "execution_count": 2,
   "id": "bb9a7fcb",
   "metadata": {},
   "outputs": [],
   "source": [
    "def door_choice():\n",
    "    doors = ['goat', 'goat', 'car']\n",
    "    random.shuffle(doors)\n",
    "   \n",
    "    first_choice = random.randint(0, 2) #player's first choice\n",
    "    \n",
    "    #choice of the first door that needs to be a goat\n",
    "    for i in range (3):\n",
    "        if i != first_choice and doors[i] == 'goat':\n",
    "            monty_choice = i\n",
    "            \n",
    "            break\n",
    "    \n",
    "#two ways: switch or not  \n",
    "    switching = 3 - first_choice - monty_choice\n",
    "#newcomer guess   \n",
    "    available_doors = doors[:monty_choice] + doors[monty_choice+1:]\n",
    "    \n",
    "    newcomer_guess = random.randint(0, 1)\n",
    "    \n",
    "#now I impose the a second choice to 2 players and the newcomer plays his first    \n",
    "    second_choice = { #dictionary \n",
    "        'switcher': doors[switching], #switches after the first reveal\n",
    "        'conservative': doors[first_choice], #keeps the first_choice\n",
    "        'newcomer':  available_doors[newcomer_guess] #sees just 2 doors closed\n",
    "        }\n",
    "    \n",
    "    return second_choice"
   ]
  },
  {
   "cell_type": "code",
   "execution_count": 3,
   "id": "095eff11",
   "metadata": {},
   "outputs": [],
   "source": [
    "def simulations(n_simulations):\n",
    "    wins = {'switcher': 0, 'conservative': 0, 'newcomer': 0} #initialization of the new dictionary\n",
    "    total_games = 0\n",
    "    for i in range (n_simulations):\n",
    "        second_choice = door_choice() #the choice has a random root also here\n",
    "        for player, result in second_choice.items(): #to iterate over items in the dictionary\n",
    "            if result == 'car':\n",
    "                wins[player] += 1\n",
    "        total_games += 1\n",
    "        \n",
    "                \n",
    "    # Calculate probability to win for each player\n",
    "    #total_wins = sum(wins.values())\n",
    "    #probs will contain the winning probabilities for each player in the form of a new dictionary\n",
    "    prob = {player: wins[player] / total_games for player in wins} #iteration over players results\n",
    "           \n",
    "    return prob"
   ]
  },
  {
   "cell_type": "code",
   "execution_count": 4,
   "id": "82413145",
   "metadata": {},
   "outputs": [
    {
     "name": "stdout",
     "output_type": "stream",
     "text": [
      "Switcher win probability:  66.49000000000001\n",
      "Conservative win probability:  33.51\n",
      "Newcomer win probability:  50.21\n"
     ]
    }
   ],
   "source": [
    "prob = simulations (10000)\n",
    "\n",
    "print(\"Switcher win probability: \", prob['switcher']*100)\n",
    "print(\"Conservative win probability: \", prob['conservative']*100)\n",
    "print(\"Newcomer win probability: \", prob['newcomer']*100)\n"
   ]
  },
  {
   "cell_type": "markdown",
   "id": "f94ab20e",
   "metadata": {},
   "source": [
    "What would happen if you had 100 doors to choose from and the presenter opens 98 or them?"
   ]
  },
  {
   "cell_type": "code",
   "execution_count": 5,
   "id": "47ad09c7",
   "metadata": {},
   "outputs": [],
   "source": [
    "def door_choice_100():\n",
    "    N=100\n",
    "    doors = (N-1)*['goat']+['car']\n",
    "    random.shuffle(doors)\n",
    "   \n",
    "    first_choice = random.randint(0, N-1) #player's first choice\n",
    "    #choice of the first door that needs to be a goat\n",
    "    monty_choice=[]\n",
    "    for i in range (N):\n",
    "        if i != first_choice and doors[i] == 'goat':\n",
    "            monty_choice.append(i)\n",
    "            if len(monty_choice) == 98:\n",
    "                break\n",
    "            \n",
    "           \n",
    "    \n",
    "#two ways: switch or not  \n",
    "    switching = [i for i in range(100) if i not in monty_choice + [first_choice]][0]\n",
    "#newcomer guess   \n",
    "    available_doors =['car'] + ['goat']\n",
    "    \n",
    "    newcomer_guess = random.randint(0, 1)\n",
    "    \n",
    "#now I impose the a second choice to 2 players and the newcomer plays his first    \n",
    "    second_choice = { #dictionary \n",
    "        'switcher': doors[switching], #switches after the first reveal\n",
    "        'conservative': doors[first_choice], #keeps the first_choice\n",
    "        'newcomer':  available_doors[newcomer_guess] #sees just 2 doors closed\n",
    "        }\n",
    "    \n",
    "    return second_choice"
   ]
  },
  {
   "cell_type": "code",
   "execution_count": 6,
   "id": "9f3e0970",
   "metadata": {},
   "outputs": [],
   "source": [
    "def simulations_100(n_simulations):\n",
    "    wins = {'switcher': 0, 'conservative': 0, 'newcomer': 0} #initialization of the new dictionary\n",
    "    total_games = 0\n",
    "    for i in range (n_simulations):\n",
    "        second_choice = door_choice_100() #the choice has a random root also here\n",
    "        for player, result in second_choice.items(): #to iterate over items in the dictionary\n",
    "            if result == 'car':\n",
    "                wins[player] += 1\n",
    "        total_games += 1\n",
    "        \n",
    "                \n",
    "    # Calculate probability to win for each player\n",
    "    #total_wins = sum(wins.values())\n",
    "    #probs will contain the winning probabilities for each player in the form of a new dictionary\n",
    "    prob = {player: wins[player] / total_games for player in wins} #iteration over players results\n",
    "           \n",
    "    return prob\n",
    "    "
   ]
  },
  {
   "cell_type": "code",
   "execution_count": 7,
   "id": "083b8c70",
   "metadata": {},
   "outputs": [
    {
     "name": "stdout",
     "output_type": "stream",
     "text": [
      "Switcher win probability:  98.99\n",
      "Conservative win probability:  1.01\n",
      "Newcomer win probability:  49.84\n"
     ]
    }
   ],
   "source": [
    "prob = simulations_100 (10000)\n",
    "\n",
    "print(\"Switcher win probability: \", prob['switcher']*100)\n",
    "print(\"Conservative win probability: \", prob['conservative']*100)\n",
    "print(\"Newcomer win probability: \", prob['newcomer']*100)\n"
   ]
  },
  {
   "cell_type": "markdown",
   "id": "0e23b43e",
   "metadata": {},
   "source": [
    "And what if you had $N$ doors to choose from and the presenter opens $M\\leq N-2$ of them? Study how the probability of winning changes as a function of $M$ and $N$."
   ]
  },
  {
   "cell_type": "code",
   "execution_count": 8,
   "id": "6df1ea3c",
   "metadata": {},
   "outputs": [],
   "source": [
    "def door_choice_N(N, M):\n",
    "    doors = (N-1)*['goat']+['car']\n",
    "    random.shuffle(doors)\n",
    "   \n",
    "    first_choice = random.randint(0, N-1) #player's first choice\n",
    "    #choice of the first door that needs to be a goat\n",
    "    monty_choice=[]\n",
    "    for i in range (N):\n",
    "        if i != first_choice and doors[i] == 'goat':\n",
    "            monty_choice.append(i)\n",
    "            if len(monty_choice) == M:\n",
    "                break\n",
    "            \n",
    "           \n",
    "    \n",
    "#two ways: switch or not  \n",
    "    switching = [i for i in range(N) if i not in monty_choice + [first_choice]]\n",
    "    switching = switching[random.randint(0, len(switching) - 1)]\n",
    "#newcomer guess   \n",
    "    available_doors =['car'] + ['goat']\n",
    "    \n",
    "    newcomer_guess = random.randint(0, 1)\n",
    "    \n",
    "#now I impose the a second choice to 2 players and the newcomer plays his first    \n",
    "    second_choice = { #dictionary \n",
    "        'switcher': doors[switching], #switches after the first reveal\n",
    "        'conservative': doors[first_choice], #keeps the first_choice\n",
    "        'newcomer':  available_doors[newcomer_guess] #sees just 2 doors closed\n",
    "        }\n",
    "    \n",
    "    return second_choice"
   ]
  },
  {
   "cell_type": "code",
   "execution_count": 9,
   "id": "f1ab5a7e",
   "metadata": {},
   "outputs": [],
   "source": [
    "def simulations_N(N, M, n_simulations):\n",
    "    wins = {'switcher': 0, 'conservative': 0, 'newcomer': 0} #initialization of the new dictionary\n",
    "    total_games = 0\n",
    "    for i in range (n_simulations):\n",
    "        second_choice = door_choice_N(N, M) #the choice has a random root also here\n",
    "        for player, result in second_choice.items(): #to iterate over items in the dictionary\n",
    "            if result == 'car':\n",
    "                wins[player] += 1\n",
    "        total_games += 1\n",
    "        \n",
    "                \n",
    "    # Calculate probability to win for each player\n",
    "    #total_wins = sum(wins.values())\n",
    "    #probs will contain the winning probabilities for each player in the form of a new dictionary\n",
    "    prob = {player: wins[player] / total_games for player in wins} #iteration over players results\n",
    "           \n",
    "    return prob"
   ]
  },
  {
   "cell_type": "code",
   "execution_count": 10,
   "id": "9ba66e0f",
   "metadata": {},
   "outputs": [
    {
     "name": "stdout",
     "output_type": "stream",
     "text": [
      "Switcher win probability N:  26.43\n",
      "Conservative win probability N:  20.48\n",
      "Newcomer win probability N:  50.88\n"
     ]
    }
   ],
   "source": [
    "prob = simulations_N (5, 1, 10000)   \n",
    "print(\"Switcher win probability N: \", prob['switcher']*100)\n",
    "print(\"Conservative win probability N: \", prob['conservative']*100)\n",
    "print(\"Newcomer win probability N: \", prob['newcomer']*100)     "
   ]
  }
 ],
 "metadata": {
  "kernelspec": {
   "display_name": "Python 3 (ipykernel)",
   "language": "python",
   "name": "python3"
  },
  "language_info": {
   "codemirror_mode": {
    "name": "ipython",
    "version": 3
   },
   "file_extension": ".py",
   "mimetype": "text/x-python",
   "name": "python",
   "nbconvert_exporter": "python",
   "pygments_lexer": "ipython3",
   "version": "3.10.9"
  }
 },
 "nbformat": 4,
 "nbformat_minor": 5
}
